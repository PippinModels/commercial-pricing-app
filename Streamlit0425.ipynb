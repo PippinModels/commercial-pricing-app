{
  "nbformat": 4,
  "nbformat_minor": 0,
  "metadata": {
    "colab": {
      "provenance": [],
      "authorship_tag": "ABX9TyMNGqxagGO15bb4BFt+wf8U",
      "include_colab_link": true
    },
    "kernelspec": {
      "name": "python3",
      "display_name": "Python 3"
    },
    "language_info": {
      "name": "python"
    }
  },
  "cells": [
    {
      "cell_type": "markdown",
      "metadata": {
        "id": "view-in-github",
        "colab_type": "text"
      },
      "source": [
        "<a href=\"https://colab.research.google.com/github/PippinModels/commercial-pricing-app/blob/main/Streamlit0425.ipynb\" target=\"_parent\"><img src=\"https://colab.research.google.com/assets/colab-badge.svg\" alt=\"Open In Colab\"/></a>"
      ]
    },
    {
      "cell_type": "code",
      "execution_count": 1,
      "metadata": {
        "colab": {
          "base_uri": "https://localhost:8080/",
          "height": 393
        },
        "id": "aBLtzXncN4nk",
        "outputId": "169ea38e-33bb-44c8-8a08-ad48b125a17d"
      },
      "outputs": [
        {
          "output_type": "error",
          "ename": "ModuleNotFoundError",
          "evalue": "No module named 'streamlit'",
          "traceback": [
            "\u001b[0;31m---------------------------------------------------------------------------\u001b[0m",
            "\u001b[0;31mModuleNotFoundError\u001b[0m                       Traceback (most recent call last)",
            "\u001b[0;32m<ipython-input-1-418bfa0fb174>\u001b[0m in \u001b[0;36m<cell line: 0>\u001b[0;34m()\u001b[0m\n\u001b[0;32m----> 1\u001b[0;31m \u001b[0;32mimport\u001b[0m \u001b[0mstreamlit\u001b[0m \u001b[0;32mas\u001b[0m \u001b[0mst\u001b[0m\u001b[0;34m\u001b[0m\u001b[0;34m\u001b[0m\u001b[0m\n\u001b[0m\u001b[1;32m      2\u001b[0m \u001b[0;32mimport\u001b[0m \u001b[0mpandas\u001b[0m \u001b[0;32mas\u001b[0m \u001b[0mpd\u001b[0m\u001b[0;34m\u001b[0m\u001b[0;34m\u001b[0m\u001b[0m\n\u001b[1;32m      3\u001b[0m \u001b[0;32mimport\u001b[0m \u001b[0mgspread\u001b[0m\u001b[0;34m\u001b[0m\u001b[0;34m\u001b[0m\u001b[0m\n\u001b[1;32m      4\u001b[0m \u001b[0;32mimport\u001b[0m \u001b[0mjson\u001b[0m\u001b[0;34m\u001b[0m\u001b[0;34m\u001b[0m\u001b[0m\n\u001b[1;32m      5\u001b[0m \u001b[0;32mfrom\u001b[0m \u001b[0moauth2client\u001b[0m\u001b[0;34m.\u001b[0m\u001b[0mservice_account\u001b[0m \u001b[0;32mimport\u001b[0m \u001b[0mServiceAccountCredentials\u001b[0m\u001b[0;34m\u001b[0m\u001b[0;34m\u001b[0m\u001b[0m\n",
            "\u001b[0;31mModuleNotFoundError\u001b[0m: No module named 'streamlit'",
            "",
            "\u001b[0;31m---------------------------------------------------------------------------\u001b[0;32m\nNOTE: If your import is failing due to a missing package, you can\nmanually install dependencies using either !pip or !apt.\n\nTo view examples of installing some common dependencies, click the\n\"Open Examples\" button below.\n\u001b[0;31m---------------------------------------------------------------------------\u001b[0m\n"
          ],
          "errorDetails": {
            "actions": [
              {
                "action": "open_url",
                "actionText": "Open Examples",
                "url": "/notebooks/snippets/importing_libraries.ipynb"
              }
            ]
          }
        }
      ],
      "source": [
        "import streamlit as st\n",
        "import pandas as pd\n",
        "import gspread\n",
        "import json\n",
        "from oauth2client.service_account import ServiceAccountCredentials\n",
        "\n",
        "# Authenticate with Google Sheets using secrets\n",
        "scope = [\"https://spreadsheets.google.com/feeds\", \"https://www.googleapis.com/auth/drive\"]\n",
        "json_key = st.secrets[\"google_sheets\"][\"json_key\"]\n",
        "service_account_info = json.loads(json_key)\n",
        "creds = ServiceAccountCredentials.from_json_keyfile_dict(service_account_info, scope)\n",
        "client = gspread.authorize(creds)\n",
        "\n",
        "# Open the Google Sheet\n",
        "spreadsheet_id = \"18Ile59_KqYt1VXixYHNaUE7-NXaMx4Wdu4VpnsBbURM\"\n",
        "sheet = client.open_by_key(spreadsheet_id)\n",
        "summary_sheet = sheet.worksheet(\"Summary Sheet\")\n",
        "\n",
        "# Convert to DataFrame\n",
        "data = summary_sheet.get_all_records()\n",
        "df = pd.DataFrame(data)\n",
        "\n",
        "# Define hierarchy\n",
        "product_hierarchy = {\n",
        "    \"Update Search\": 1,\n",
        "    \"Current Owner Search\": 2,\n",
        "    \"Two Owner Search\": 3,\n",
        "    \"Full 30 YR Search\": 4,\n",
        "    \"Full 40 YR Search\": 5,\n",
        "    \"Full 50 YR Search\": 6,\n",
        "    \"Full 60 YR Search\": 7,\n",
        "    \"Full 80 YR Search\": 8,\n",
        "    \"Full 100 YR Search\": 9,\n",
        "}\n",
        "\n",
        "st.title(\"Commercial Prediction Model\")\n",
        "\n",
        "if not df.empty:\n",
        "    mapped_type = st.selectbox(\"Select Mapped Type\", df[\"Zoned Property Type\"].unique())\n",
        "    filtered_df_type = df[df[\"Zoned Property Type\"] == mapped_type]\n",
        "\n",
        "    unique_products = filtered_df_type[\"Mapped Product Ordered\"].unique()\n",
        "    sorted_products = sorted(unique_products, key=lambda x: product_hierarchy.get(x, float(\"inf\")))\n",
        "    mapped_product = st.selectbox(\"Select Mapped Product Ordered\", sorted_products)\n",
        "    filtered_df_product = filtered_df_type[filtered_df_type[\"Mapped Product Ordered\"] == mapped_product]\n",
        "\n",
        "    unique_online_offline = filtered_df_product[\"Offline/Online\"].unique()\n",
        "    online_offline = st.selectbox(\"Select Online/Offline\", unique_online_offline)\n",
        "    filtered_df = filtered_df_product[filtered_df_product[\"Offline/Online\"] == online_offline]\n",
        "\n",
        "    if st.button(\"Predict Pricing\"):\n",
        "        if not filtered_df.empty:\n",
        "            row = filtered_df.iloc[0]\n",
        "\n",
        "            adjusted_pricing = row[\"Adjusted Forecasted Pricing (mean)\"]\n",
        "            smoothed_pricing = row[\"Smoothed Forecasted Pricing (mean)\"]\n",
        "            confidence = row.get(\"Confidence\", \"Unknown\")\n",
        "\n",
        "            # Display results\n",
        "            st.subheader(\"Forecasted Pricing\")\n",
        "\n",
        "            if adjusted_pricing == smoothed_pricing:\n",
        "                st.markdown(f\"<h4> ${adjusted_pricing:,.2f} </h4>\", unsafe_allow_html=True)\n",
        "            else:\n",
        "                pricing_range = sorted([adjusted_pricing, smoothed_pricing])\n",
        "                st.markdown(f\"<h4> ${pricing_range[0]:,.2f} – ${pricing_range[1]:,.2f} </h4>\", unsafe_allow_html=True)\n",
        "\n",
        "            # Show confidence level\n",
        "            st.markdown(f\"<h6>Confidence Level: <b>{confidence}</b></h6>\", unsafe_allow_html=True)\n",
        "        else:\n",
        "            st.warning(\"No predictions available for the selected criteria.\")\n",
        "else:\n",
        "    st.warning(\"No prediction file found. Run the pipeline first.\")\n"
      ]
    }
  ]
}