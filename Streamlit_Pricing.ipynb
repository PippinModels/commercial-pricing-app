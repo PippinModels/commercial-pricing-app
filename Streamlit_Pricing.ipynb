{
  "nbformat": 4,
  "nbformat_minor": 0,
  "metadata": {
    "colab": {
      "provenance": [],
      "authorship_tag": "ABX9TyNPhUKit8jQyQwIr6eDD9pL",
      "include_colab_link": true
    },
    "kernelspec": {
      "name": "python3",
      "display_name": "Python 3"
    },
    "language_info": {
      "name": "python"
    }
  },
  "cells": [
    {
      "cell_type": "markdown",
      "metadata": {
        "id": "view-in-github",
        "colab_type": "text"
      },
      "source": [
        "<a href=\"https://colab.research.google.com/github/PippinModels/commercial-pricing-app/blob/main/Streamlit_Pricing.ipynb\" target=\"_parent\"><img src=\"https://colab.research.google.com/assets/colab-badge.svg\" alt=\"Open In Colab\"/></a>"
      ]
    },
    {
      "cell_type": "code",
      "source": [
        "%%writefile \"/content/drive/MyDrive/Commercial Data Files/run_04_23.py\"\n",
        "import streamlit as st\n",
        "import pandas as pd\n",
        "import gspread\n",
        "from oauth2client.service_account import ServiceAccountCredentials\n",
        "\n",
        "# Authenticate with Google Sheets\n",
        "scope = [\"https://spreadsheets.google.com/feeds\", \"https://www.googleapis.com/auth/drive\"]\n",
        "creds = ServiceAccountCredentials.from_json_keyfile_name(\"/content/drive/MyDrive/Commercial Data Files/commercial-pricing-pipeline-5646db7d6064.json\", scope)\n",
        "\n",
        "client = gspread.authorize(creds)\n",
        "\n",
        "\n",
        "# Open the latest Google Sheet\n",
        "spreadsheet_id = \"18Ile59_KqYt1VXixYHNaUE7-NXaMx4Wdu4VpnsBbURM\"\n",
        "sheet = client.open_by_key(spreadsheet_id)\n",
        "summary_sheet = sheet.worksheet(\"Summary Sheet\")\n",
        "\n",
        "# Convert to DataFrame\n",
        "data = summary_sheet.get_all_records()\n",
        "df = pd.DataFrame(data)\n",
        "\n",
        "product_hierarchy = {\n",
        "    \"Update Search\": 1,\n",
        "    \"Current Owner Search\": 2,\n",
        "    \"Two Owner Search\": 3,\n",
        "    \"Full 30 YR Search\": 4,\n",
        "    \"Full 40 YR Search\": 5,\n",
        "    \"Full 50 YR Search\": 6,\n",
        "    \"Full 60 YR Search\": 7,\n",
        "    \"Full 80 YR Search\": 8,\n",
        "    \"Full 100 YR Search\": 9,\n",
        "}\n",
        "\n",
        "\n",
        "st.title(\"Commercial Prediction Model\")\n",
        "\n",
        "if not df.empty:\n",
        "    mapped_type = st.selectbox(\"Select Mapped Type\", df[\"usedesc\"].unique())\n",
        "    filtered_df_type = df[df[\"usedesc\"] == mapped_type]\n",
        "\n",
        "    unique_products = filtered_df_type[\"Mapped Product Ordered\"].unique()\n",
        "    sorted_products = sorted(unique_products, key=lambda x: product_hierarchy.get(x, float(\"inf\")))\n",
        "    mapped_product = st.selectbox(\"Select Mapped Product Ordered\", sorted_products)\n",
        "    filtered_df_product = filtered_df_type[filtered_df_type[\"Mapped Product Ordered\"] == mapped_product]\n",
        "\n",
        "    unique_online_offline = filtered_df_product[\"Offline/Online\"].unique()\n",
        "    online_offline = st.selectbox(\"Select Online/Offline\", unique_online_offline)\n",
        "    filtered_df = filtered_df_product[filtered_df_product[\"Offline/Online\"] == online_offline]\n",
        "\n",
        "    if st.button(\"Predict Pricing\"):\n",
        "      if not filtered_df.empty:\n",
        "          row = filtered_df.iloc[0]\n",
        "\n",
        "          # Base prediction\n",
        "          adjusted_pricing = row[\"Adjusted Forecasted Pricing (mean)\"]\n",
        "\n",
        "          # Calculate ranges\n",
        "          f_mean = row[\"Forecasted Pricing (mean)\"]\n",
        "          s_mean = row[\"Smoothed Forecasted Pricing (mean)\"]\n",
        "          mean_range = sorted([f_mean, s_mean])  # always small to large\n",
        "\n",
        "          f_median = row[\"Forecasted Pricing (median)\"]\n",
        "          s_median = row[\"Smoothed Forecasted Pricing (median)\"]\n",
        "          median_range = sorted([f_median, s_median])  # always small to large\n",
        "\n",
        "          # Display results\n",
        "          st.subheader(\"Predicted Pricing\")\n",
        "          st.markdown(f\"<h4> ${adjusted_pricing:,.2f}</h4>\", unsafe_allow_html=True)\n",
        "\n",
        "          st.markdown(f\"**Forecasted Mean Range:** ${mean_range[0]:,.2f} – ${mean_range[1]:,.2f}\")\n",
        "          st.markdown(f\"**Forecasted Median Range:** ${median_range[0]:,.2f} – ${median_range[1]:,.2f}\")\n",
        "\n",
        "    else:\n",
        "        st.warning(\"No predictions available for the selected criteria.\")\n",
        "else:\n",
        "    st.warning(\"No prediction file found. Run the pipeline first.\")\n",
        "\n"
      ],
      "metadata": {
        "colab": {
          "base_uri": "https://localhost:8080/"
        },
        "id": "PZCfTFkdl87d",
        "outputId": "acf90c01-e57e-4657-9730-f379826d16ad"
      },
      "execution_count": 7,
      "outputs": [
        {
          "output_type": "stream",
          "name": "stdout",
          "text": [
            "Overwriting /content/drive/MyDrive/Commercial Data Files/run_04_23.py\n"
          ]
        }
      ]
    },
    {
      "cell_type": "code",
      "source": [
        "from google.oauth2 import service_account\n",
        "import google.auth\n",
        "import os\n",
        "\n",
        "\n",
        "service_account_path = '/content/drive/MyDrive/Commercial Data Files/commercial-pricing-pipeline-5646db7d6064.json'\n",
        "\n",
        "\n",
        "\n",
        "credentials = service_account.Credentials.from_service_account_file(service_account_path)\n",
        "\n"
      ],
      "metadata": {
        "id": "0pjqwW4qRBSp"
      },
      "execution_count": 6,
      "outputs": []
    }
  ]
}